{
 "cells": [
  {
   "cell_type": "markdown",
   "id": "d857219d",
   "metadata": {},
   "source": [
    "# Neden NumPY (tek diyez)\n",
    "## Bu bir alt başlıktır (iki diyez)"
   ]
  },
  {
   "cell_type": "code",
   "execution_count": null,
   "id": "efe04548",
   "metadata": {},
   "outputs": [],
   "source": []
  },
  {
   "cell_type": "markdown",
   "id": "bdcce2d6",
   "metadata": {},
   "source": [
    "Markdown seçerek buraya stediğimiz açıklamları yazabiliriz ve derleme esnasında bir sıkıntı çıkmaz.\n",
    "\n",
    "hücre içindeki tüm kesme yapıştırma işlemler,nde ctrl + x,y,v kullanırız\n",
    "hücre dışımda  ctrl'ye gerek yok\n",
    "\n",
    "iki kez ard arda d'ye basınca hücreyi siler"
   ]
  },
  {
   "cell_type": "code",
   "execution_count": 2,
   "id": "73d3b51b",
   "metadata": {},
   "outputs": [],
   "source": [
    "import numpy as np"
   ]
  },
  {
   "cell_type": "code",
   "execution_count": 3,
   "id": "8912afba",
   "metadata": {},
   "outputs": [
    {
     "data": {
      "text/plain": [
       "array([ 2,  6, 12, 20])"
      ]
     },
     "execution_count": 3,
     "metadata": {},
     "output_type": "execute_result"
    }
   ],
   "source": [
    "a= np.array([1,2,3,4]) #integer bir numpy array tanımladık\n",
    "b= np.array([2,3,4,5])\n",
    "a*b"
   ]
  },
  {
   "cell_type": "code",
   "execution_count": 6,
   "id": "641fc431",
   "metadata": {},
   "outputs": [
    {
     "data": {
      "text/plain": [
       "array([ 3,  5,  6, 10])"
      ]
     },
     "execution_count": 6,
     "metadata": {},
     "output_type": "execute_result"
    }
   ],
   "source": [
    "np.array([3.4,5,6,10.1], dtype = int)  # dtype ile listeye oluşturmasını istediğimiz tipi söyledik"
   ]
  },
  {
   "cell_type": "code",
   "execution_count": 7,
   "id": "88c81f1b",
   "metadata": {},
   "outputs": [
    {
     "data": {
      "text/plain": [
       "array([0., 0., 0., 0., 0., 0., 0., 0., 0., 0.])"
      ]
     },
     "execution_count": 7,
     "metadata": {},
     "output_type": "execute_result"
    }
   ],
   "source": [
    "np.zeros(10)"
   ]
  },
  {
   "cell_type": "code",
   "execution_count": 8,
   "id": "9697c0c1",
   "metadata": {},
   "outputs": [
    {
     "data": {
      "text/plain": [
       "array([[1., 1., 1., 1., 1.],\n",
       "       [1., 1., 1., 1., 1.],\n",
       "       [1., 1., 1., 1., 1.]])"
      ]
     },
     "execution_count": 8,
     "metadata": {},
     "output_type": "execute_result"
    }
   ],
   "source": [
    "np.ones((3,5))"
   ]
  },
  {
   "cell_type": "code",
   "execution_count": 10,
   "id": "736224a2",
   "metadata": {},
   "outputs": [
    {
     "data": {
      "text/plain": [
       "array([[1, 1, 1, 1, 1],\n",
       "       [1, 1, 1, 1, 1],\n",
       "       [1, 1, 1, 1, 1]])"
      ]
     },
     "execution_count": 10,
     "metadata": {},
     "output_type": "execute_result"
    }
   ],
   "source": [
    "np.ones((3,5),dtype=int)"
   ]
  },
  {
   "cell_type": "code",
   "execution_count": 11,
   "id": "5557d0e6",
   "metadata": {},
   "outputs": [
    {
     "data": {
      "text/plain": [
       "array([[3, 3, 3, 3],\n",
       "       [3, 3, 3, 3]])"
      ]
     },
     "execution_count": 11,
     "metadata": {},
     "output_type": "execute_result"
    }
   ],
   "source": [
    "np.full((2,4),3)"
   ]
  },
  {
   "cell_type": "code",
   "execution_count": 13,
   "id": "2b6c802e",
   "metadata": {},
   "outputs": [
    {
     "data": {
      "text/plain": [
       "array([ 0,  3,  6,  9, 12, 15, 18, 21, 24, 27, 30, 33])"
      ]
     },
     "execution_count": 13,
     "metadata": {},
     "output_type": "execute_result"
    }
   ],
   "source": [
    "np.arange(0,35,3) #sıfırdan 35'e kadar 3'er artan doğrusal dizi tanımlar\n"
   ]
  },
  {
   "cell_type": "code",
   "execution_count": null,
   "id": "265cbf9c",
   "metadata": {},
   "outputs": [],
   "source": []
  },
  {
   "cell_type": "markdown",
   "id": "3462baa9",
   "metadata": {},
   "source": [
    "**array özellikleri** _yapısal özellikler\n",
    "** -> bold _ -> italic yapıyor\n",
    "\n",
    "* ndim : boyut sayısı\n",
    "* shape: boyut bilgisi \n",
    "* size : toplam eleman sayısı\n",
    "* dtype : array veri tipini gösterir"
   ]
  },
  {
   "cell_type": "code",
   "execution_count": 22,
   "id": "120e4f30",
   "metadata": {},
   "outputs": [
    {
     "data": {
      "text/plain": [
       "array([9, 6, 4, 1, 4, 8, 8, 9, 8, 1])"
      ]
     },
     "execution_count": 22,
     "metadata": {},
     "output_type": "execute_result"
    }
   ],
   "source": [
    "a=np.random.randint(10,size=10)\n",
    "a"
   ]
  },
  {
   "cell_type": "code",
   "execution_count": 21,
   "id": "b749827a",
   "metadata": {},
   "outputs": [
    {
     "data": {
      "text/plain": [
       "1"
      ]
     },
     "execution_count": 21,
     "metadata": {},
     "output_type": "execute_result"
    }
   ],
   "source": [
    "a.ndim"
   ]
  },
  {
   "cell_type": "code",
   "execution_count": 23,
   "id": "e48b1124",
   "metadata": {},
   "outputs": [
    {
     "data": {
      "text/plain": [
       "(10,)"
      ]
     },
     "execution_count": 23,
     "metadata": {},
     "output_type": "execute_result"
    }
   ],
   "source": [
    "a.shape"
   ]
  },
  {
   "cell_type": "code",
   "execution_count": 24,
   "id": "362a9a2f",
   "metadata": {},
   "outputs": [
    {
     "data": {
      "text/plain": [
       "10"
      ]
     },
     "execution_count": 24,
     "metadata": {},
     "output_type": "execute_result"
    }
   ],
   "source": [
    "a.size"
   ]
  },
  {
   "cell_type": "code",
   "execution_count": 25,
   "id": "2d99b749",
   "metadata": {},
   "outputs": [
    {
     "data": {
      "text/plain": [
       "dtype('int32')"
      ]
     },
     "execution_count": 25,
     "metadata": {},
     "output_type": "execute_result"
    }
   ],
   "source": [
    "a.dtype"
   ]
  },
  {
   "cell_type": "code",
   "execution_count": 27,
   "id": "259d8338",
   "metadata": {},
   "outputs": [
    {
     "data": {
      "text/plain": [
       "array([[5, 4, 1, 6, 4],\n",
       "       [1, 6, 5, 6, 7],\n",
       "       [6, 0, 0, 4, 5]])"
      ]
     },
     "execution_count": 27,
     "metadata": {},
     "output_type": "execute_result"
    }
   ],
   "source": [
    "b = np.random.randint(10,size=(3,5))\n",
    "b"
   ]
  },
  {
   "cell_type": "code",
   "execution_count": 28,
   "id": "2b2c70f5",
   "metadata": {},
   "outputs": [
    {
     "name": "stdout",
     "output_type": "stream",
     "text": [
      "2\n",
      "(3, 5)\n",
      "15\n",
      "int32\n"
     ]
    }
   ],
   "source": [
    "print(b.ndim)\n",
    "print(b.shape)\n",
    "print(b.size)\n",
    "print(b.dtype)"
   ]
  },
  {
   "cell_type": "markdown",
   "id": "ccda2955",
   "metadata": {},
   "source": [
    "* *Yeniden Şekillendirme (Reshaping)*\n",
    "\n",
    "Var olan numpy arrayini yeniden şekillendiriyor"
   ]
  },
  {
   "cell_type": "code",
   "execution_count": 32,
   "id": "ad28ff9c",
   "metadata": {},
   "outputs": [
    {
     "name": "stdout",
     "output_type": "stream",
     "text": [
      "[1 2 3 4 5 6 7 8 9]\n",
      "(9,)\n",
      "1\n",
      "9\n",
      "(3, 3)\n",
      "2\n",
      "9\n",
      "[[1 2 3]\n",
      " [4 5 6]\n",
      " [7 8 9]]\n"
     ]
    }
   ],
   "source": [
    "a=np.arange(1,10)\n",
    "print(a)\n",
    "print(a.shape)\n",
    "print(a.ndim)\n",
    "print(a.size)\n",
    "b=a.reshape((3,3))\n",
    "print(b.shape)\n",
    "print(b.ndim)\n",
    "print(b.size)\n",
    "print(b)"
   ]
  },
  {
   "cell_type": "code",
   "execution_count": 36,
   "id": "0d708ed3",
   "metadata": {},
   "outputs": [
    {
     "name": "stdout",
     "output_type": "stream",
     "text": [
      "1\n",
      "2\n"
     ]
    }
   ],
   "source": [
    "x=a\n",
    "print(a.ndim) # a tek boyutlu bir array yani vektör\n",
    "x=a.reshape((1,9))\n",
    "print(x.ndim) # x ise iki boyutlu yani bir matris"
   ]
  },
  {
   "cell_type": "code",
   "execution_count": null,
   "id": "c0402df7",
   "metadata": {},
   "outputs": [],
   "source": []
  },
  {
   "cell_type": "markdown",
   "id": "f0ba8b5f",
   "metadata": {},
   "source": [
    "* *Birleştirme Concatenation*\n",
    "\n",
    "verilen arrayleri birleştirme işlemi yapar"
   ]
  },
  {
   "cell_type": "code",
   "execution_count": 2,
   "id": "2c660b42",
   "metadata": {},
   "outputs": [
    {
     "name": "stdout",
     "output_type": "stream",
     "text": [
      "<class 'numpy.ndarray'>\n",
      "<class 'numpy.ndarray'>\n",
      "[1 2 3 4 5 6]\n"
     ]
    }
   ],
   "source": [
    "import numpy as np\n",
    "\n",
    "x= np.array([1,2,3])\n",
    "y= np.array([4,5,6])\n",
    "\n",
    "xy = np.concatenate([x,y])\n",
    "xy2 = np.concatenate((x,y))\n",
    "\n",
    "print(type(xy))\n",
    "print(type(xy2))\n",
    "print(xy)"
   ]
  },
  {
   "cell_type": "markdown",
   "id": "2421e677",
   "metadata": {},
   "source": [
    "* *2 Dimension Array Concatenation* \n",
    "* np.concanate([arrrays that will concanate], axis: which axis they will concanate based on)\n",
    "\n",
    "axis is default 0\n",
    "\n",
    "0 means that concanate operation will done based on rows\n",
    "\n",
    "1 means concanate operation will done based on columns\n"
   ]
  },
  {
   "cell_type": "code",
   "execution_count": 13,
   "id": "d68c1402",
   "metadata": {},
   "outputs": [
    {
     "name": "stdout",
     "output_type": "stream",
     "text": [
      "[[1 2 3]\n",
      " [4 5 6]\n",
      " [1 2 3]\n",
      " [4 5 6]]\n",
      "\n",
      "----------------------\n",
      "\n",
      "[[1 2 3 1 2 3]\n",
      " [4 5 6 4 5 6]]\n"
     ]
    }
   ],
   "source": [
    "xx = np.array([[1,2,3],[4,5,6]])\n",
    "xx_based_on_rows = np.concatenate([xx,xx],axis=0)\n",
    "print(xx_based_on_rows)\n",
    "print(\"\\n----------------------\\n\")\n",
    "xx_based_on_columns = np.concatenate([xx,xx], axis=1)\n",
    "print(xx_based_on_columns)"
   ]
  },
  {
   "cell_type": "code",
   "execution_count": null,
   "id": "4f9c0e5e",
   "metadata": {},
   "outputs": [],
   "source": []
  },
  {
   "cell_type": "markdown",
   "id": "170f9e31",
   "metadata": {},
   "source": [
    "* *İki boyutlu ayırma (vsplit/hsplit)*"
   ]
  },
  {
   "cell_type": "code",
   "execution_count": 17,
   "id": "6747e156",
   "metadata": {},
   "outputs": [
    {
     "data": {
      "text/plain": [
       "array([[ 0,  1,  2,  3],\n",
       "       [ 4,  5,  6,  7],\n",
       "       [ 8,  9, 10, 11],\n",
       "       [12, 13, 14, 15]])"
      ]
     },
     "execution_count": 17,
     "metadata": {},
     "output_type": "execute_result"
    }
   ],
   "source": [
    "x = np.arange(16).reshape(4,4)\n",
    "x"
   ]
  },
  {
   "cell_type": "code",
   "execution_count": 21,
   "id": "dc61092e",
   "metadata": {},
   "outputs": [
    {
     "name": "stdout",
     "output_type": "stream",
     "text": [
      "[[0 1 2 3]\n",
      " [4 5 6 7]] \n",
      "---------\n",
      " [[ 8  9 10 11]\n",
      " [12 13 14 15]]\n"
     ]
    }
   ],
   "source": [
    "# vsplit splits array vertical\n",
    "\n",
    "ust,alt = np.vsplit(x, [2]) \n",
    "print(ust,\"\\n---------\\n\",alt)"
   ]
  },
  {
   "cell_type": "code",
   "execution_count": 23,
   "id": "7ea846ea",
   "metadata": {},
   "outputs": [
    {
     "name": "stdout",
     "output_type": "stream",
     "text": [
      "[[ 0  1]\n",
      " [ 4  5]\n",
      " [ 8  9]\n",
      " [12 13]] \n",
      "--------\n",
      " [[ 2  3]\n",
      " [ 6  7]\n",
      " [10 11]\n",
      " [14 15]]\n"
     ]
    }
   ],
   "source": [
    "# hspilt splits array horizontal\n",
    "\n",
    "sol, sag = np.hsplit(x,[2])\n",
    "print(sol,\"\\n--------\\n\",sag)"
   ]
  },
  {
   "cell_type": "markdown",
   "id": "3b7064f5",
   "metadata": {},
   "source": [
    "* *Sorting and* *2 Dimensional Sorting*"
   ]
  },
  {
   "cell_type": "code",
   "execution_count": 24,
   "id": "32b00fb7",
   "metadata": {},
   "outputs": [
    {
     "data": {
      "text/plain": [
       "array([   1,    4,   12,   45,  576, 1325])"
      ]
     },
     "execution_count": 24,
     "metadata": {},
     "output_type": "execute_result"
    }
   ],
   "source": [
    "v = [1,4,45,12,1325,576]\n",
    "\n",
    "np.sort(v) # np.sort() func does not change the array\n"
   ]
  },
  {
   "cell_type": "code",
   "execution_count": 26,
   "id": "fe214b80",
   "metadata": {},
   "outputs": [
    {
     "data": {
      "text/plain": [
       "[1, 4, 12, 45, 576, 1325]"
      ]
     },
     "execution_count": 26,
     "metadata": {},
     "output_type": "execute_result"
    }
   ],
   "source": [
    "v.sort() # sorts the array by  changing it's indexes\n",
    "v"
   ]
  },
  {
   "cell_type": "code",
   "execution_count": 27,
   "id": "59c6d3d8",
   "metadata": {},
   "outputs": [
    {
     "data": {
      "text/plain": [
       "array([[34.76850466, 16.27708282, 22.01643462],\n",
       "       [13.64570968, 16.0231825 , 25.47862071],\n",
       "       [14.62299401, 18.55670434, 25.6301174 ]])"
      ]
     },
     "execution_count": 27,
     "metadata": {},
     "output_type": "execute_result"
    }
   ],
   "source": [
    "#iki boyutlu \n",
    "\n",
    "v = np.random.normal(20,5,(3,3)) # ortalaması 20 , standart sapması 5 olacak şekilde 3x3 lük bir matris oluşturur\n",
    "v"
   ]
  },
  {
   "cell_type": "code",
   "execution_count": 28,
   "id": "d9197c11",
   "metadata": {},
   "outputs": [
    {
     "data": {
      "text/plain": [
       "array([[16.27708282, 22.01643462, 34.76850466],\n",
       "       [13.64570968, 16.0231825 , 25.47862071],\n",
       "       [14.62299401, 18.55670434, 25.6301174 ]])"
      ]
     },
     "execution_count": 28,
     "metadata": {},
     "output_type": "execute_result"
    }
   ],
   "source": [
    "# iki boyutluk arrayin satırlarını sıralamak istiyorsak (her bir satırı kendi içinde sıralar)\n",
    "np.sort(v, axis=1)"
   ]
  },
  {
   "cell_type": "code",
   "execution_count": 30,
   "id": "9095f6a1",
   "metadata": {},
   "outputs": [
    {
     "data": {
      "text/plain": [
       "array([[13.64570968, 16.0231825 , 22.01643462],\n",
       "       [14.62299401, 16.27708282, 25.47862071],\n",
       "       [34.76850466, 18.55670434, 25.6301174 ]])"
      ]
     },
     "execution_count": 30,
     "metadata": {},
     "output_type": "execute_result"
    }
   ],
   "source": [
    "#iki boyutlu arrayin sütunlarınısıralamak istiyorsak\n",
    "np.sort(v, axis=0)"
   ]
  },
  {
   "cell_type": "code",
   "execution_count": 3,
   "id": "29a66334",
   "metadata": {},
   "outputs": [
    {
     "name": "stdout",
     "output_type": "stream",
     "text": [
      "3\n",
      "(3, 3, 2)\n",
      "18\n"
     ]
    }
   ],
   "source": [
    "x = np.array([[[7,9],\n",
    "     [4,0],\n",
    "     [5,9]],\n",
    "    [[4,8],\n",
    "    [6,4],\n",
    "    [4,5]],\n",
    "    [[2,2],\n",
    "    [8,2],\n",
    "    [0,2]]])\n",
    "\n",
    "print(x.ndim)\n",
    "print(x.shape)\n",
    "print(x.size)"
   ]
  },
  {
   "cell_type": "markdown",
   "id": "85a91638",
   "metadata": {},
   "source": [
    "* *Array Alt Küme İşlemleri (Slicing)*  \n",
    "\n"
   ]
  },
  {
   "cell_type": "code",
   "execution_count": 1,
   "id": "76fbf39c",
   "metadata": {},
   "outputs": [],
   "source": [
    "import numpy as np"
   ]
  },
  {
   "cell_type": "code",
   "execution_count": 12,
   "id": "ec2bae8b",
   "metadata": {},
   "outputs": [
    {
     "name": "stdout",
     "output_type": "stream",
     "text": [
      "[1 2 3 4 5 6 7 8 9]\n",
      "[1 2 3]\n",
      "[1 2 3]\n",
      "[4 5 6 7 8 9]\n",
      "[2]\n",
      "[2 4 6 8]\n",
      "[1 4 7]\n"
     ]
    }
   ],
   "source": [
    "# Tek Boyutlu arraylerde \n",
    "a = np.arange(1,10)\n",
    "print(a)\n",
    "print(a[0:3])\n",
    "print(a[:3])\n",
    "print(a[3:])\n",
    "print(a[1:2])\n",
    "print(a[1::2]) # birinci indeksten 2.'ye kadar indeksi 2 şer artarak yazdırır\n",
    "print(a[0::3]) "
   ]
  },
  {
   "cell_type": "code",
   "execution_count": 14,
   "id": "1a8f08df",
   "metadata": {},
   "outputs": [
    {
     "name": "stdout",
     "output_type": "stream",
     "text": [
      "[[1 6 8 8 3]\n",
      " [7 0 6 0 9]\n",
      " [2 1 4 7 9]\n",
      " [4 6 9 1 1]\n",
      " [6 2 5 5 0]]\n"
     ]
    }
   ],
   "source": [
    "#İki Boyutlu Arraylerde\n",
    "m = np.random.randint(10, size=(5,5))\n",
    "print(m)"
   ]
  },
  {
   "cell_type": "code",
   "execution_count": 20,
   "id": "3abfd1f2",
   "metadata": {},
   "outputs": [
    {
     "name": "stdout",
     "output_type": "stream",
     "text": [
      "[[1 6 8 8 3]\n",
      " [7 0 6 0 9]\n",
      " [2 1 4 7 9]\n",
      " [4 6 9 1 1]\n",
      " [6 2 5 5 0]]\n",
      "\n",
      "\n",
      "[1 7 2 4 6]\n",
      "\n",
      "\n",
      "[1 6 8 8 3]\n"
     ]
    }
   ],
   "source": [
    "print(m[:,:]) # tüm satır ve sğtunları döndürür\n",
    "print(\"\\n\")\n",
    "print(m[:,0]) # tüm satırlar 0. sütun\n",
    "print(\"\\n\")\n",
    "print(m[0,:]) # 0.satır tüm sütunlar"
   ]
  },
  {
   "cell_type": "code",
   "execution_count": 24,
   "id": "794a5d9c",
   "metadata": {
    "collapsed": true,
    "jupyter": {
     "outputs_hidden": true
    }
   },
   "outputs": [
    {
     "name": "stdout",
     "output_type": "stream",
     "text": [
      "[[1 6 8 8 3]\n",
      " [7 0 6 0 9]\n",
      " [2 1 4 7 9]\n",
      " [4 6 9 1 1]\n",
      " [6 2 5 5 0]]\n",
      "\n",
      "\n",
      "[7 0 6 0 9]\n",
      "\n",
      "\n",
      "[[1 6 8]\n",
      " [7 0 6]]\n",
      "\n",
      "\n",
      "[[1 6]\n",
      " [7 0]\n",
      " [2 1]\n",
      " [4 6]\n",
      " [6 2]]\n",
      "\n",
      "\n",
      "[[1 6]\n",
      " [7 0]\n",
      " [2 1]\n",
      " [4 6]\n",
      " [6 2]]\n",
      "\n",
      "\n",
      "[[7 0]\n",
      " [2 1]]\n"
     ]
    }
   ],
   "source": [
    "print(m[:,:])\n",
    "print(\"\\n\")\n",
    "print(m[1,:])\n",
    "print(\"\\n\")\n",
    "print(m[0:2,0:3]) #0'dan 2. satıra & 0'dan 3. sütuna\n",
    "print(\"\\n\")\n",
    "print(m[::, :2]) # tüm satırlar & 2. sütuna kadar\n",
    "print(\"\\n\")\n",
    "print(m[:,:2]) # tüm satırlar & 2. sütuna kadar\n",
    "print(\"\\n\")\n",
    "print(m[1:3,0:2])"
   ]
  },
  {
   "cell_type": "markdown",
   "id": "5ad43aa3",
   "metadata": {},
   "source": [
    "* *Alt kümeler üzerinde işlem yapmak*\n",
    "\n",
    "Normalde matrisler üzerinde işlem yaparken direkt olarak bir aralık seçip bu aralıığı bir değişkene atama yaparsak , ve daha sonra bu alt küme üzerinde değişiklik yaptığımızda ana matris üzerinde de bu değişimler gözleniyor.\n",
    "\n",
    "Alt kümeyi ana matristen bağımsızlaştırmak için _copy_ metodunu kullanırız. BU metodla oluşturduğumuz alt küme ana matristen bağımsızldır, üzrinde istediğimiz gibi değişiklik yapabiliriz."
   ]
  },
  {
   "cell_type": "code",
   "execution_count": 25,
   "id": "e93b0e80",
   "metadata": {},
   "outputs": [
    {
     "data": {
      "text/plain": [
       "array([[0, 1, 9, 3, 3],\n",
       "       [7, 4, 5, 0, 6],\n",
       "       [5, 7, 7, 4, 6],\n",
       "       [2, 8, 8, 1, 1],\n",
       "       [5, 3, 9, 5, 6]])"
      ]
     },
     "execution_count": 25,
     "metadata": {},
     "output_type": "execute_result"
    }
   ],
   "source": [
    "m = np.random.randint(10,size=(5,5))\n",
    "m"
   ]
  },
  {
   "cell_type": "code",
   "execution_count": 30,
   "id": "006da16d",
   "metadata": {},
   "outputs": [
    {
     "data": {
      "text/plain": [
       "array([[9, 3, 3],\n",
       "       [5, 0, 6],\n",
       "       [7, 4, 6]])"
      ]
     },
     "execution_count": 30,
     "metadata": {},
     "output_type": "execute_result"
    }
   ],
   "source": [
    "alt_a = m[0:3,2:5].copy()\n",
    "alt_a"
   ]
  },
  {
   "cell_type": "code",
   "execution_count": 32,
   "id": "ab040543",
   "metadata": {},
   "outputs": [
    {
     "data": {
      "text/plain": [
       "array([[      9,       3,       3],\n",
       "       [      5, 1000001,       6],\n",
       "       [      7,       4,       6]])"
      ]
     },
     "execution_count": 32,
     "metadata": {},
     "output_type": "execute_result"
    }
   ],
   "source": [
    "alt_a[1,1]=1000001\n",
    "alt_a"
   ]
  },
  {
   "cell_type": "code",
   "execution_count": 33,
   "id": "1b731072",
   "metadata": {},
   "outputs": [
    {
     "data": {
      "text/plain": [
       "array([[0, 1, 9, 3, 3],\n",
       "       [7, 4, 5, 0, 6],\n",
       "       [5, 7, 7, 4, 6],\n",
       "       [2, 8, 8, 1, 1],\n",
       "       [5, 3, 9, 5, 6]])"
      ]
     },
     "execution_count": 33,
     "metadata": {},
     "output_type": "execute_result"
    }
   ],
   "source": [
    "m"
   ]
  },
  {
   "cell_type": "markdown",
   "id": "e5ef7d23",
   "metadata": {},
   "source": [
    "### FANCY INDEX\n",
    "\n",
    "* fancy index başka bir değişken(liste) vasıtası ile istenen indeksteki elemanın getirilmesidir. Kendine aşt bir fonksiyonu yoktur , indexlere erişim şeklimiz ile  fancy metodunu kullanmış oluruz.\n"
   ]
  },
  {
   "cell_type": "code",
   "execution_count": 35,
   "id": "0f7aa0d4",
   "metadata": {},
   "outputs": [
    {
     "data": {
      "text/plain": [
       "array([ 1,  3,  5,  7,  9, 11, 13, 15, 17, 19, 21, 23, 25, 27, 29])"
      ]
     },
     "execution_count": 35,
     "metadata": {},
     "output_type": "execute_result"
    }
   ],
   "source": [
    "# tek boyutlu arraylerde\n",
    "v = np.arange(1,30,2)\n",
    "v"
   ]
  },
  {
   "cell_type": "code",
   "execution_count": 40,
   "id": "3ca9678b",
   "metadata": {},
   "outputs": [
    {
     "data": {
      "text/plain": [
       "(3, 7, 11, 29)"
      ]
     },
     "execution_count": 40,
     "metadata": {},
     "output_type": "execute_result"
    }
   ],
   "source": [
    "al_getir=[1,3,5,14]  #tanımladığımız al_getir listesi içinde değerini görmek istediğimiz indexleri yazarız\n",
    "\n",
    "v[1],v[3],v[5],v[14]"
   ]
  },
  {
   "cell_type": "code",
   "execution_count": 41,
   "id": "4586541d",
   "metadata": {},
   "outputs": [
    {
     "data": {
      "text/plain": [
       "array([ 3,  7, 11, 29])"
      ]
     },
     "execution_count": 41,
     "metadata": {},
     "output_type": "execute_result"
    }
   ],
   "source": [
    "v[al_getir] # tanımladığımız tek boyutlu array(vektör) içinde listedeki elemanları index olarak kabul edip bu indexlerin değerlerini döndürür"
   ]
  },
  {
   "cell_type": "code",
   "execution_count": 43,
   "id": "3d17d940",
   "metadata": {},
   "outputs": [
    {
     "data": {
      "text/plain": [
       "array([[0, 1, 2],\n",
       "       [3, 4, 5],\n",
       "       [6, 7, 8]])"
      ]
     },
     "execution_count": 43,
     "metadata": {},
     "output_type": "execute_result"
    }
   ],
   "source": [
    "# iki byoyutlu arraylerde fancy\n",
    "m = np.arange(9).reshape(3,3)\n",
    "m"
   ]
  },
  {
   "cell_type": "code",
   "execution_count": 47,
   "id": "bf52ad5c",
   "metadata": {},
   "outputs": [
    {
     "data": {
      "text/plain": [
       "array([1, 5])"
      ]
     },
     "execution_count": 47,
     "metadata": {},
     "output_type": "execute_result"
    }
   ],
   "source": [
    "#seçeceğimiz satır ve sütunları ayrı listelerde tutarız\n",
    "satir = np.array([0,1])\n",
    "sutun = np.array([1,2]) \n",
    "m[satir,sutun]  # m[satir[0]sutun[0]} ve m[satir[1]sutun[1]] değerlerini döndürür"
   ]
  },
  {
   "cell_type": "markdown",
   "id": "b69f48c4",
   "metadata": {},
   "source": [
    "* Basit indeks & Fancy\n",
    "\n",
    "İndekslere basitçe ulaşma ve fancy şekilde ulaşmayı aynı anda kullanabiliriz.\n",
    "\n",
    "* Slice & Fancy\n",
    "\n",
    "Slice ile fancy de birlikte kullanılabilir\n"
   ]
  },
  {
   "cell_type": "code",
   "execution_count": 48,
   "id": "95fb13be",
   "metadata": {},
   "outputs": [
    {
     "data": {
      "text/plain": [
       "array([7, 8])"
      ]
     },
     "execution_count": 48,
     "metadata": {},
     "output_type": "execute_result"
    }
   ],
   "source": [
    "m[2,[1,2]] #2. satıra basit indeksle(klasik indeks) , 1. ve 2. sütuna fancy indeksleme ile ulaştık"
   ]
  },
  {
   "cell_type": "code",
   "execution_count": 51,
   "id": "f1a29945",
   "metadata": {},
   "outputs": [
    {
     "data": {
      "text/plain": [
       "array([[4, 5]])"
      ]
     },
     "execution_count": 51,
     "metadata": {},
     "output_type": "execute_result"
    }
   ],
   "source": [
    "# slice ile fancy de bir arada kullanılabilir\n",
    "\n",
    "m[1:2,[1,2]] #1. satırdan 2.'ye kadar & 1. ve 2. sütunu alır "
   ]
  },
  {
   "cell_type": "code",
   "execution_count": 53,
   "id": "e5317148",
   "metadata": {},
   "outputs": [
    {
     "data": {
      "text/plain": [
       "array([[0, 2],\n",
       "       [3, 5],\n",
       "       [6, 8]])"
      ]
     },
     "execution_count": 53,
     "metadata": {},
     "output_type": "execute_result"
    }
   ],
   "source": [
    "m[:3,[0,2]]"
   ]
  },
  {
   "cell_type": "markdown",
   "id": "4f0cb17b",
   "metadata": {},
   "source": [
    "* _*Koşullu Eleman İşlemleri*_\n",
    "\n",
    "İçindeki elemanları şartlara göre döndürür."
   ]
  },
  {
   "cell_type": "code",
   "execution_count": 55,
   "id": "aa395a65",
   "metadata": {},
   "outputs": [
    {
     "data": {
      "text/plain": [
       "array([1, 2, 3, 4, 5])"
      ]
     },
     "execution_count": 55,
     "metadata": {},
     "output_type": "execute_result"
    }
   ],
   "source": [
    "v = np.arange(1,6)\n",
    "v"
   ]
  },
  {
   "cell_type": "code",
   "execution_count": 57,
   "id": "e8412b0f",
   "metadata": {},
   "outputs": [
    {
     "data": {
      "text/plain": [
       "array([ True,  True, False, False, False])"
      ]
     },
     "execution_count": 57,
     "metadata": {},
     "output_type": "execute_result"
    }
   ],
   "source": [
    "v<3 # v içindeki değerlerin 5'ten büyük olup olmadığını kontrol eder true/false döndürür"
   ]
  },
  {
   "cell_type": "code",
   "execution_count": 58,
   "id": "6eed7ec5",
   "metadata": {},
   "outputs": [
    {
     "data": {
      "text/plain": [
       "array([1, 2])"
      ]
     },
     "execution_count": 58,
     "metadata": {},
     "output_type": "execute_result"
    }
   ],
   "source": [
    "v[v<3] # v'nin içinde 3'ten küçük olan(true olan) değerleri döndürür"
   ]
  },
  {
   "cell_type": "code",
   "execution_count": 60,
   "id": "ffb3037e",
   "metadata": {},
   "outputs": [
    {
     "data": {
      "text/plain": [
       "array([], dtype=int32)"
      ]
     },
     "execution_count": 60,
     "metadata": {},
     "output_type": "execute_result"
    }
   ],
   "source": [
    "v[v>5] # v içinde 5'ten büyük eleman olmadığı için boş array döndürür"
   ]
  },
  {
   "cell_type": "code",
   "execution_count": 66,
   "id": "700d8ecc",
   "metadata": {},
   "outputs": [
    {
     "data": {
      "text/plain": [
       "array([], dtype=int32)"
      ]
     },
     "execution_count": 66,
     "metadata": {},
     "output_type": "execute_result"
    }
   ],
   "source": [
    "v[v>=3]\n",
    "v[v==2] #2 değeri varsa döndürür\n",
    "v[v!=2] #2'ye eşit olmayanları döndürür\n",
    "v[v==7] # 7 elemanı varsa döndürür yoksa boş array döner"
   ]
  },
  {
   "cell_type": "code",
   "execution_count": 69,
   "id": "b53414d3",
   "metadata": {},
   "outputs": [
    {
     "data": {
      "text/plain": [
       "array([1, 2, 3, 4, 5])"
      ]
     },
     "execution_count": 69,
     "metadata": {},
     "output_type": "execute_result"
    }
   ],
   "source": [
    "v*2 # çarpma işlemi yapar ama tekrar atama yapmadığımız sürece çarpılmış değerleri tutamayız\n",
    "v"
   ]
  },
  {
   "cell_type": "code",
   "execution_count": 70,
   "id": "78da34cf",
   "metadata": {},
   "outputs": [
    {
     "data": {
      "text/plain": [
       "array([ 3,  6,  9, 12, 15])"
      ]
     },
     "execution_count": 70,
     "metadata": {},
     "output_type": "execute_result"
    }
   ],
   "source": [
    "v= v*3\n",
    "v"
   ]
  },
  {
   "cell_type": "code",
   "execution_count": 74,
   "id": "c0603fb6",
   "metadata": {},
   "outputs": [
    {
     "data": {
      "text/plain": [
       "array([  27,  216,  729, 1728, 3375], dtype=int32)"
      ]
     },
     "execution_count": 74,
     "metadata": {},
     "output_type": "execute_result"
    }
   ],
   "source": [
    "v/5\n",
    "v*5/2\n",
    "v**3 # küp alır"
   ]
  },
  {
   "cell_type": "markdown",
   "id": "aa0587ac",
   "metadata": {},
   "source": [
    "### Matematiksel İşlemler (UFUNC)\n",
    "\n",
    "biz vektörler üzerinde direkt olarak matematiksel işlemler yapıyoruz ama arka planda ufunc mekanizması çalışıyor,\n",
    "bizim çarpma işlemi için kullandığımız yıldız(*) operatoru arka planda numpy fonksiyonları içinde dönüştürülüyor.  "
   ]
  },
  {
   "cell_type": "code",
   "execution_count": 97,
   "id": "b8a28d1b",
   "metadata": {},
   "outputs": [
    {
     "data": {
      "text/plain": [
       "array([1, 0, 1, 0, 1], dtype=int32)"
      ]
     },
     "execution_count": 97,
     "metadata": {},
     "output_type": "execute_result"
    }
   ],
   "source": [
    "v-1  #işlemi arka planda numpy.subtract(v,1) fonksiyonunu çağırıyor\n",
    "v+1  #işlemi arka planda numpy.add(v,1) fonksiyonunu çağırıyor \n",
    "v*3  #işlemi arka planda numpy.multiply(v,3) fonksiyonunu çağırıyor\n",
    "v/5  #işlemi arka planda numpy.divide(v,5) fonksiyonunu çağırıyor\n",
    "v**2 #işlemi arka planda numpy.power(v,2) fonksiyonunu çağırıyor\n",
    "v%2  #işlemi arka planda numpy.mod(v,2) fonksiyonunu çağırıyor"
   ]
  },
  {
   "cell_type": "code",
   "execution_count": 98,
   "id": "0ff260ef",
   "metadata": {},
   "outputs": [
    {
     "data": {
      "text/plain": [
       "array([ 3,  7, 19, 11])"
      ]
     },
     "execution_count": 98,
     "metadata": {},
     "output_type": "execute_result"
    }
   ],
   "source": [
    "np.absolute(np.array([-3,-7,19,-11]))"
   ]
  },
  {
   "cell_type": "code",
   "execution_count": 100,
   "id": "4327d68b",
   "metadata": {},
   "outputs": [
    {
     "data": {
      "text/plain": [
       "-0.5984600690578581"
      ]
     },
     "execution_count": 100,
     "metadata": {},
     "output_type": "execute_result"
    }
   ],
   "source": [
    "# trigonometrik fonksiyonlar\n",
    "\n",
    "np.sin(360)\n",
    "np.cos(180)"
   ]
  },
  {
   "cell_type": "code",
   "execution_count": 104,
   "id": "5cb0f19a",
   "metadata": {},
   "outputs": [
    {
     "data": {
      "text/plain": [
       "array([0.        , 0.30103   , 0.47712125])"
      ]
     },
     "execution_count": 104,
     "metadata": {},
     "output_type": "execute_result"
    }
   ],
   "source": [
    "#logaritma alma\n",
    "#?np \n",
    "#numpy mathematics cheatsheet \n",
    "\n",
    "v= np.array([1,2,3])\n",
    "np.log(v)\n",
    "np.log2(v)\n",
    "np.log10(v)"
   ]
  },
  {
   "cell_type": "markdown",
   "id": "38c2d231",
   "metadata": {},
   "source": [
    "## Numpy ile İstatistik\n"
   ]
  },
  {
   "cell_type": "markdown",
   "id": "b8cf6de8",
   "metadata": {},
   "source": [
    "'''\n",
    "np.mean(arr,axis=0) | Returns mean along specific axis\n",
    "np.sum() | Returns sum of arr \n",
    "np.min() | Returns minimum value of arr \n",
    "np.max(axis=0) | Returns maximum value of specific axis \n",
    "np.var(arr) | Returns the variance of array\n",
    "np.std(arr,axis=1) | Returns the standard deviation of specific axis \n",
    "np.corrcoef() | Returns correlation coefficient of array\n",
    "'''"
   ]
  },
  {
   "cell_type": "code",
   "execution_count": 107,
   "id": "ee53c884",
   "metadata": {},
   "outputs": [
    {
     "data": {
      "text/plain": [
       "array([1, 2, 3])"
      ]
     },
     "execution_count": 107,
     "metadata": {},
     "output_type": "execute_result"
    }
   ],
   "source": [
    "v"
   ]
  },
  {
   "cell_type": "code",
   "execution_count": 108,
   "id": "b39c40f7",
   "metadata": {},
   "outputs": [
    {
     "data": {
      "text/plain": [
       "6"
      ]
     },
     "execution_count": 108,
     "metadata": {},
     "output_type": "execute_result"
    }
   ],
   "source": [
    "v.sum()"
   ]
  },
  {
   "cell_type": "code",
   "execution_count": 110,
   "id": "c4b425f2",
   "metadata": {},
   "outputs": [
    {
     "data": {
      "text/plain": [
       "2.0"
      ]
     },
     "execution_count": 110,
     "metadata": {},
     "output_type": "execute_result"
    }
   ],
   "source": [
    "v.mean()"
   ]
  },
  {
   "cell_type": "code",
   "execution_count": 111,
   "id": "7e278444",
   "metadata": {},
   "outputs": [
    {
     "data": {
      "text/plain": [
       "1"
      ]
     },
     "execution_count": 111,
     "metadata": {},
     "output_type": "execute_result"
    }
   ],
   "source": [
    "v.min()"
   ]
  },
  {
   "cell_type": "code",
   "execution_count": 112,
   "id": "d230cfbf",
   "metadata": {},
   "outputs": [
    {
     "data": {
      "text/plain": [
       "0.816496580927726"
      ]
     },
     "execution_count": 112,
     "metadata": {},
     "output_type": "execute_result"
    }
   ],
   "source": [
    "v.std()"
   ]
  },
  {
   "cell_type": "markdown",
   "id": "3076230a",
   "metadata": {},
   "source": [
    "* *Numpy linalg k ile iki bilinmeyenli denklem çözümü*"
   ]
  },
  {
   "cell_type": "code",
   "execution_count": null,
   "id": "af7652e7",
   "metadata": {},
   "outputs": [],
   "source": []
  },
  {
   "cell_type": "markdown",
   "id": "ce3d24ee",
   "metadata": {},
   "source": [
    "5*x0 + x1 = 12\n",
    "x0 + 3*x1 = 10\n",
    "\n",
    "bilinmeyen ifadelerin katsayılarını bir vektöre, sonuçları da başka vektöre ekleriz\n"
   ]
  },
  {
   "cell_type": "code",
   "execution_count": 114,
   "id": "ec127f2d",
   "metadata": {},
   "outputs": [],
   "source": [
    "a = np.array([[5,1],[1,3]])\n",
    "b = np.array([12,10])"
   ]
  },
  {
   "cell_type": "code",
   "execution_count": 117,
   "id": "d86a18e3",
   "metadata": {},
   "outputs": [
    {
     "data": {
      "text/plain": [
       "array([[5, 1],\n",
       "       [1, 3]])"
      ]
     },
     "execution_count": 117,
     "metadata": {},
     "output_type": "execute_result"
    }
   ],
   "source": [
    "a\n"
   ]
  },
  {
   "cell_type": "code",
   "execution_count": 119,
   "id": "e9c4065e",
   "metadata": {},
   "outputs": [
    {
     "data": {
      "text/plain": [
       "array([12, 10])"
      ]
     },
     "execution_count": 119,
     "metadata": {},
     "output_type": "execute_result"
    }
   ],
   "source": [
    "b"
   ]
  },
  {
   "cell_type": "code",
   "execution_count": 120,
   "id": "faebd467",
   "metadata": {},
   "outputs": [
    {
     "data": {
      "text/plain": [
       "array([1.85714286, 2.71428571])"
      ]
     },
     "execution_count": 120,
     "metadata": {},
     "output_type": "execute_result"
    }
   ],
   "source": [
    "sonuc = np.linalg.solve(a,b)\n",
    "sonuc"
   ]
  },
  {
   "cell_type": "code",
   "execution_count": 121,
   "id": "1392dfdd",
   "metadata": {},
   "outputs": [
    {
     "data": {
      "text/plain": [
       "array([[4, 0, 3, 0, 1]])"
      ]
     },
     "execution_count": 121,
     "metadata": {},
     "output_type": "execute_result"
    }
   ],
   "source": [
    "x = np.array([[4, 0, 3, 0, 1],\n",
    "\n",
    "            [9, 6, 1, 5, 9],\n",
    "\n",
    "            [1, 9, 0, 8, 2]])\n",
    "x[0:1]"
   ]
  }
 ],
 "metadata": {
  "kernelspec": {
   "display_name": "Python 3",
   "language": "python",
   "name": "python3"
  },
  "language_info": {
   "codemirror_mode": {
    "name": "ipython",
    "version": 3
   },
   "file_extension": ".py",
   "mimetype": "text/x-python",
   "name": "python",
   "nbconvert_exporter": "python",
   "pygments_lexer": "ipython3",
   "version": "3.5.6"
  }
 },
 "nbformat": 4,
 "nbformat_minor": 5
}
